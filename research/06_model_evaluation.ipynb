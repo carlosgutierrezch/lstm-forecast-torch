{
 "cells": [
  {
   "cell_type": "code",
   "execution_count": 1,
   "metadata": {},
   "outputs": [],
   "source": [
    "import os\n",
    "os.chdir('../')"
   ]
  },
  {
   "cell_type": "code",
   "execution_count": 2,
   "metadata": {},
   "outputs": [
    {
     "data": {
      "text/html": [
       "<pre style=\"white-space:pre;overflow-x:auto;line-height:normal;font-family:Menlo,'DejaVu Sans Mono',consolas,'Courier New',monospace\">Accessing as carlosgutierrezch\n",
       "</pre>\n"
      ],
      "text/plain": [
       "Accessing as carlosgutierrezch\n"
      ]
     },
     "metadata": {},
     "output_type": "display_data"
    },
    {
     "name": "stdout",
     "output_type": "stream",
     "text": [
      "[2024-08-07 11:29:10,829:INFO:helpers:Accessing as carlosgutierrezch]\n"
     ]
    },
    {
     "data": {
      "text/html": [
       "<pre style=\"white-space:pre;overflow-x:auto;line-height:normal;font-family:Menlo,'DejaVu Sans Mono',consolas,'Courier New',monospace\">Initialized MLflow to track repo <span style=\"color: #008000; text-decoration-color: #008000\">\"carlosgutierrezch/ml-flow\"</span>\n",
       "</pre>\n"
      ],
      "text/plain": [
       "Initialized MLflow to track repo \u001b[32m\"carlosgutierrezch/ml-flow\"\u001b[0m\n"
      ]
     },
     "metadata": {},
     "output_type": "display_data"
    },
    {
     "name": "stdout",
     "output_type": "stream",
     "text": [
      "[2024-08-07 11:29:11,052:INFO:helpers:Initialized MLflow to track repo \"carlosgutierrezch/ml-flow\"]\n"
     ]
    },
    {
     "data": {
      "text/html": [
       "<pre style=\"white-space:pre;overflow-x:auto;line-height:normal;font-family:Menlo,'DejaVu Sans Mono',consolas,'Courier New',monospace\">Repository carlosgutierrezch/ml-flow initialized!\n",
       "</pre>\n"
      ],
      "text/plain": [
       "Repository carlosgutierrezch/ml-flow initialized!\n"
      ]
     },
     "metadata": {},
     "output_type": "display_data"
    },
    {
     "name": "stdout",
     "output_type": "stream",
     "text": [
      "[2024-08-07 11:29:11,054:INFO:helpers:Repository carlosgutierrezch/ml-flow initialized!]\n"
     ]
    }
   ],
   "source": [
    "import pandas as pd\n",
    "import numpy as np\n",
    "import torch\n",
    "from sklearn.metrics import r2_score,mean_squared_error\n",
    "import mlflow\n",
    "from urllib.parse import urlparse \n",
    "from TimeSeriesForecast.utils.common import read_yaml,create_directories\n",
    "from TimeSeriesForecast.constants import *\n",
    "from dataclasses import dataclass\n",
    "from pathlib import Path\n",
    "import mlflow.sklearn\n",
    "import dagshub\n",
    "dagshub.init(repo_owner='carlosgutierrezch', repo_name='ml-flow', mlflow=True)\n",
    "from notebooks.src.functions_torch import TimeSeries,eval_metrics\n",
    "from torch.utils.data import DataLoader"
   ]
  },
  {
   "cell_type": "code",
   "execution_count": 3,
   "metadata": {},
   "outputs": [],
   "source": [
    "@dataclass(frozen=True)\n",
    "class ModelEvaluationConfig:\n",
    "    root_dir: Path\n",
    "    test_data_path: Path\n",
    "    model_path: Path\n",
    "    metric_file_name: str\n",
    "    mlflow_url: str\n",
    "    batch_size: int\n",
    "    num_epochs: int\n",
    "    all_params: Path"
   ]
  },
  {
   "cell_type": "code",
   "execution_count": 4,
   "metadata": {},
   "outputs": [],
   "source": [
    "class ConfigurationManager:\n",
    "    def __init__(self,\n",
    "                 config_filepath= CONFIG_FILE_PATH,\n",
    "                 params_filepath= PARAMS_FILE_PATH,\n",
    "                 schema_filepath= SCHEMA_FILE_PATH):\n",
    "        self.config= read_yaml(config_filepath)\n",
    "        self.params= read_yaml(params_filepath)\n",
    "        self.schema= read_yaml(schema_filepath)\n",
    "        \n",
    "        create_directories([self.config.artifacts_root])\n",
    "        \n",
    "    def get_eval_config(self)-> ModelEvaluationConfig:\n",
    "        config= self.config.model_evaluation\n",
    "        params= self.params.TorchModel\n",
    "\n",
    "        return_eval= ModelEvaluationConfig(\n",
    "                                            root_dir=config.root_dir,\n",
    "                                            test_data_path= config.test_data_path,\n",
    "                                            model_path= config.model_path,\n",
    "                                            metric_file_name= config.metric_file_name,\n",
    "                                            mlflow_url= config.mlflow_url,\n",
    "                                            batch_size= params.batch_size,\n",
    "                                            num_epochs= params.num_epochs,\n",
    "                                            all_params= params\n",
    "                                            )\n",
    "        return return_eval"
   ]
  },
  {
   "cell_type": "code",
   "execution_count": 5,
   "metadata": {},
   "outputs": [],
   "source": [
    "class ModelEvaluation:\n",
    "    def __init__(self, config: ModelEvaluationConfig):\n",
    "        self.config= config\n",
    "        self.tensor=None\n",
    "        self.X_test= None\n",
    "        self.y_test=None\n",
    "    def tensor_loader(self):\n",
    "        try:\n",
    "            self.tensor= torch.load(self.config.test_data_path)\n",
    "            self.X_test,self.y_test= self.tensor['X_test'],self.tensor['y_test']\n",
    "            self.test_dataset= TimeSeries(self.X_test,self.y_test)\n",
    "            self.test_loader= DataLoader(self.test_dataset,batch_size=self.config.batch_size,shuffle=False)\n",
    "            return self\n",
    "        except Exception as e:\n",
    "            raise e\n",
    "    def model_loader(self):\n",
    "        try:\n",
    "            device= 'cuda:0' if torch.cuda.is_available() else 'cpu'\n",
    "            model= torch.load(self.config.model_path)\n",
    "            model.to(device)\n",
    "            test_data= self.test_loader\n",
    "            num_epochs= self.config.num_epochs\n",
    "            with mlflow.start_run():\n",
    "                model.eval()\n",
    "\n",
    "                for epoch in range(num_epochs):\n",
    "                    \n",
    "                    for _,batch in enumerate(test_data):\n",
    "                        x_batch,y_batch=batch[0].to(device),batch[1].to(device)\n",
    "                        with torch.no_grad():\n",
    "                            predicted = model(x_batch).to('cpu').numpy()\n",
    "                            y_batch= y_batch.to('cpu').numpy()\n",
    "                            (rmse,mae,r2)= eval_metrics(predicted,y_batch)\n",
    "                        \n",
    "                print(f'epoch: {epoch+1}/{num_epochs},rmse :{rmse}, mae: {mae},r2: {r2}') \n",
    "                                       \n",
    "                mlflow.log_params(self.config.all_params)\n",
    "                mlflow.log_metric('rmse', rmse)\n",
    "                mlflow.log_metric('mae',mae)\n",
    "                mlflow.log_metric('r2',r2)\n",
    "        except Exception as e:\n",
    "            raise e"
   ]
  },
  {
   "cell_type": "code",
   "execution_count": 6,
   "metadata": {},
   "outputs": [
    {
     "name": "stdout",
     "output_type": "stream",
     "text": [
      "[2024-08-07 11:29:12,219:INFO:common:yaml file: config/config.yaml loaded successfully]\n",
      "[2024-08-07 11:29:12,250:INFO:common:yaml file: params.yaml loaded successfully]\n"
     ]
    },
    {
     "name": "stdout",
     "output_type": "stream",
     "text": [
      "[2024-08-07 11:29:12,266:INFO:common:yaml file: schema.yaml loaded successfully]\n",
      "[2024-08-07 11:29:12,272:INFO:common:created directory at: artifacts]\n",
      "epoch: 10/10,rmse :0.2800808548927307, mae: 0.279976487159729,r2: -4582.60693359375\n"
     ]
    }
   ],
   "source": [
    "try:\n",
    "    configu= ConfigurationManager()\n",
    "    model_eval= configu.get_eval_config()\n",
    "    model_evaluation= ModelEvaluation(config=model_eval)\n",
    "    model_evaluation.tensor_loader()\n",
    "    model_evaluation.model_loader()\n",
    "except Exception as e:\n",
    "    raise e"
   ]
  }
 ],
 "metadata": {
  "kernelspec": {
   "display_name": "time",
   "language": "python",
   "name": "python3"
  },
  "language_info": {
   "codemirror_mode": {
    "name": "ipython",
    "version": 3
   },
   "file_extension": ".py",
   "mimetype": "text/x-python",
   "name": "python",
   "nbconvert_exporter": "python",
   "pygments_lexer": "ipython3",
   "version": "3.11.4"
  }
 },
 "nbformat": 4,
 "nbformat_minor": 2
}
