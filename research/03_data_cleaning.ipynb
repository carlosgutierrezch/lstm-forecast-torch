{
 "cells": [
  {
   "cell_type": "code",
   "execution_count": 3,
   "metadata": {},
   "outputs": [],
   "source": [
    "import os\n",
    "import pandas as pd"
   ]
  },
  {
   "cell_type": "code",
   "execution_count": 4,
   "metadata": {},
   "outputs": [
    {
     "data": {
      "text/plain": [
       "'/Users/main/Desktop/LSTM_Forecast/research'"
      ]
     },
     "execution_count": 4,
     "metadata": {},
     "output_type": "execute_result"
    }
   ],
   "source": [
    "%pwd"
   ]
  },
  {
   "cell_type": "code",
   "execution_count": 5,
   "metadata": {},
   "outputs": [],
   "source": [
    "os.chdir('../')"
   ]
  },
  {
   "cell_type": "code",
   "execution_count": 6,
   "metadata": {},
   "outputs": [
    {
     "data": {
      "text/plain": [
       "'/Users/main/Desktop/LSTM_Forecast'"
      ]
     },
     "execution_count": 6,
     "metadata": {},
     "output_type": "execute_result"
    }
   ],
   "source": [
    "%pwd"
   ]
  },
  {
   "cell_type": "code",
   "execution_count": 7,
   "metadata": {},
   "outputs": [],
   "source": [
    "from dataclasses import dataclass\n",
    "from pathlib import Path\n",
    "\n",
    "@dataclass(frozen=True)\n",
    "class DataCleaningConfig:\n",
    "    root_dir: Path\n",
    "    data_path: Path"
   ]
  },
  {
   "cell_type": "code",
   "execution_count": 8,
   "metadata": {},
   "outputs": [],
   "source": [
    "from TimeSeriesForecast.constants import *\n",
    "from TimeSeriesForecast.utils.common import read_yaml,create_directories\n"
   ]
  },
  {
   "cell_type": "code",
   "execution_count": 9,
   "metadata": {},
   "outputs": [],
   "source": [
    "class ConfigurationManager:\n",
    "    def __init__(\n",
    "        self,\n",
    "        config_filepath= CONFIG_FILE_PATH,\n",
    "        params_filepath= PARAMS_FILE_PATH,\n",
    "        schema_filepath= SCHEMA_FILE_PATH):\n",
    "        \n",
    "        self.config= read_yaml(config_filepath)\n",
    "        self.params= read_yaml(params_filepath)\n",
    "        self.schema= read_yaml(schema_filepath)\n",
    "        \n",
    "        create_directories([self.config.artifacts_root])\n",
    "\n",
    "    def get_data_cleaning_config(self)->DataCleaningConfig:\n",
    "        config= self.config.data_cleaning\n",
    "        \n",
    "        create_directories([config.root_dir])\n",
    "        \n",
    "        data_cleaning_config= DataCleaningConfig(\n",
    "            root_dir= config.root_dir,\n",
    "            \n",
    "            data_path= config.data_path)\n",
    "\n",
    "        return data_cleaning_config"
   ]
  },
  {
   "cell_type": "code",
   "execution_count": 10,
   "metadata": {},
   "outputs": [],
   "source": [
    "from TimeSeriesForecast import logger"
   ]
  },
  {
   "cell_type": "code",
   "execution_count": null,
   "metadata": {},
   "outputs": [],
   "source": [
    "class DataCleaning:\n",
    "    def __init__(self, config: DataCleaningConfig):\n",
    "        self.config = config\n",
    "        self.df = None\n",
    "\n",
    "    def read_and_prepare_data(self):\n",
    "        try:\n",
    "            self.df = pd.read_csv(self.config.data_path)\n",
    "            self.df['Date'] = pd.to_datetime(self.df['Date'])\n",
    "            self.df.sort_values(by='Date', inplace=True)\n",
    "            self.df.reset_index(drop=True, inplace=True)\n",
    "            self.df.set_index('Date', inplace=True)\n",
    "            return self\n",
    "        except Exception as e:\n",
    "            raise Exception(f\"Error in read_and_prepare_data: {str(e)}\")\n",
    "\n",
    "    def clean_data(self):\n",
    "        try:\n",
    "            self.df.columns = self.df.columns.str.strip()\n",
    "            for column in self.df.columns:\n",
    "                if self.df[column].dtype == 'object' and column != 'Date':\n",
    "                    self.df[column] = self.df[column].str.replace('$', '', regex=False).astype(float)\n",
    "            if 'Close/Last' in self.df.columns:\n",
    "                self.df.rename(columns={'Close/Last': 'Value'}, inplace=True)\n",
    "            return self\n",
    "        except Exception as e:\n",
    "            raise Exception(f\"Error in clean_data: {str(e)}\")\n",
    "\n",
    "    def filter_data(self):\n",
    "        try:\n",
    "            self.df = self.df[['Value']]\n",
    "            self.df = self.df.loc['2023':'2023'].copy()\n",
    "            return self\n",
    "        except Exception as e:\n",
    "            raise Exception(f\"Error in filter_data: {str(e)}\")\n",
    "\n",
    "    def transform_data(self):\n",
    "        try:\n",
    "            for i in range(1, 1 + 1):\n",
    "                self.df[f'Value (t-{i})'] = self.df['Value'].shift(i)\n",
    "            self.df.dropna(inplace=True)\n",
    "            self.df = self.df.asfreq('D')\n",
    "            self.df.ffill(inplace=True)\n",
    "\n",
    "            output_path = os.path.join(self.config.root_dir, 'data.csv')\n",
    "            self.df.to_csv(output_path, index=False)\n",
    "            \n",
    "            logger.info('Train and test data prepared and saved.')\n",
    "            logger.info(f'Data shape after transformation: {self.df.shape}')\n",
    "\n",
    "            return self.df\n",
    "        except Exception as e:\n",
    "            raise Exception(f\"Error in transform_data: {str(e)}\")\n",
    "\n",
    "try:\n",
    "    config= ConfigurationManager()\n",
    "    data_transformation_config= config.get_data_cleaning_config()\n",
    "    data_transformation= DataCleaning(config=data_transformation_config)\n",
    "    data_transformation.read_and_prepare_data()\n",
    "    data_transformation.rename_clean_data()\n",
    "    data_transformation.loc_data()\n",
    "    data_transformation.lag_transform_data()\n",
    "except Exception as e:\n",
    "    raise e"
   ]
  }
 ],
 "metadata": {
  "kernelspec": {
   "display_name": "time",
   "language": "python",
   "name": "python3"
  },
  "language_info": {
   "codemirror_mode": {
    "name": "ipython",
    "version": 3
   },
   "file_extension": ".py",
   "mimetype": "text/x-python",
   "name": "python",
   "nbconvert_exporter": "python",
   "pygments_lexer": "ipython3",
   "version": "3.11.4"
  }
 },
 "nbformat": 4,
 "nbformat_minor": 2
}
