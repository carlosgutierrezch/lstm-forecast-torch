{
 "cells": [
  {
   "cell_type": "code",
   "execution_count": 6,
   "metadata": {},
   "outputs": [],
   "source": [
    "import os"
   ]
  },
  {
   "cell_type": "code",
   "execution_count": 7,
   "metadata": {},
   "outputs": [
    {
     "data": {
      "text/plain": [
       "'/Users/main/Desktop/LSTM_Forecast/research'"
      ]
     },
     "execution_count": 7,
     "metadata": {},
     "output_type": "execute_result"
    }
   ],
   "source": [
    "%pwd"
   ]
  },
  {
   "cell_type": "code",
   "execution_count": 10,
   "metadata": {},
   "outputs": [],
   "source": [
    "os.chdir('../')"
   ]
  },
  {
   "cell_type": "code",
   "execution_count": 11,
   "metadata": {},
   "outputs": [
    {
     "data": {
      "text/plain": [
       "'/Users/main/Desktop/LSTM_Forecast'"
      ]
     },
     "execution_count": 11,
     "metadata": {},
     "output_type": "execute_result"
    }
   ],
   "source": [
    "%pwd"
   ]
  },
  {
   "cell_type": "code",
   "execution_count": 13,
   "metadata": {},
   "outputs": [],
   "source": [
    "import pandas as pd\n",
    "\n",
    "data= pd.read_csv('./artifacts/data_ingestion/apple.csv')"
   ]
  },
  {
   "cell_type": "code",
   "execution_count": 14,
   "metadata": {},
   "outputs": [
    {
     "data": {
      "text/plain": [
       "Index(['Date', 'Close/Last', 'Volume', 'Open', 'High', 'Low'], dtype='object')"
      ]
     },
     "execution_count": 14,
     "metadata": {},
     "output_type": "execute_result"
    }
   ],
   "source": [
    "data.columns"
   ]
  },
  {
   "cell_type": "code",
   "execution_count": 15,
   "metadata": {},
   "outputs": [],
   "source": [
    "from dataclasses import dataclass\n",
    "from pathlib import Path\n",
    "\n",
    "@dataclass(frozen=True)\n",
    "class DataValidationConfig:\n",
    "    root_dir: Path\n",
    "    STATUS_FILE: str\n",
    "    unzip_data_dir: Path\n",
    "    all_schema: dict"
   ]
  },
  {
   "cell_type": "code",
   "execution_count": 16,
   "metadata": {},
   "outputs": [],
   "source": [
    "from TimeSeriesForecast.constants import *\n",
    "from TimeSeriesForecast.utils.common import read_yaml,create_directories"
   ]
  },
  {
   "cell_type": "code",
   "execution_count": 17,
   "metadata": {},
   "outputs": [],
   "source": [
    "class ConfigurationManager:\n",
    "    def __init__(\n",
    "        self,\n",
    "        config_filepath= CONFIG_FILE_PATH,\n",
    "        params_filepath= PARAMS_FILE_PATH,\n",
    "        schema_filepath= SCHEMA_FILE_PATH):\n",
    "        \n",
    "        self.config= read_yaml(config_filepath)\n",
    "        self.params= read_yaml(params_filepath)\n",
    "        self.schema= read_yaml(schema_filepath)\n",
    "        \n",
    "        create_directories([self.config.artifacts_root])\n",
    "        \n",
    "    def get_data_validation_config(self)-> DataValidationConfig:\n",
    "        config= self.config.data_validation\n",
    "        schema= self.schema.COLUMNS\n",
    "        \n",
    "        create_directories([config.root_dir])\n",
    "        \n",
    "        data_validation_config= DataValidationConfig(\n",
    "            root_dir=  config.root_dir,\n",
    "            STATUS_FILE= config.STATUS_FILE,\n",
    "            unzip_data_dir= config.unzip_data_dir,\n",
    "            all_schema= schema\n",
    "        )\n",
    "        \n",
    "        return data_validation_config"
   ]
  },
  {
   "cell_type": "code",
   "execution_count": 18,
   "metadata": {},
   "outputs": [],
   "source": [
    "import os\n",
    "from TimeSeriesForecast import logger"
   ]
  },
  {
   "cell_type": "code",
   "execution_count": 19,
   "metadata": {},
   "outputs": [],
   "source": [
    "class DataValidation:\n",
    "    def __init__(self,config: DataValidationConfig):\n",
    "        self.config= config\n",
    "    \n",
    "    def validate_all_columns(self)->bool:\n",
    "        try:\n",
    "            validation_status = None\n",
    "            data= pd.read_csv(self.config.unzip_data_dir)\n",
    "            all_columns= list(data.columns)\n",
    "            \n",
    "            all_schema= self.config.all_schema.keys()\n",
    "            \n",
    "            for col in all_columns:\n",
    "                if col not in all_schema:\n",
    "                    validation_status= False\n",
    "                    with open(self.config.STATUS_FILE,'w') as f:\n",
    "                        f.write(f\"Validation status: {validation_status}\")\n",
    "                else:\n",
    "                    validation_status=True\n",
    "                    with open(self.config.STATUS_FILE,'w') as x:\n",
    "                        x.write(f\"Validation status: {validation_status}\")\n",
    "            return validation_status\n",
    "        except Exception as e:\n",
    "            raise e"
   ]
  },
  {
   "cell_type": "code",
   "execution_count": 20,
   "metadata": {},
   "outputs": [
    {
     "name": "stdout",
     "output_type": "stream",
     "text": [
      "[2024-07-18 18:24:11,361:INFO:common:yaml file: config/config.yaml loaded successfully]\n",
      "[2024-07-18 18:24:11,363:INFO:common:yaml file: params.yaml loaded successfully]\n",
      "[2024-07-18 18:24:11,366:INFO:common:yaml file: schema.yaml loaded successfully]\n",
      "[2024-07-18 18:24:11,367:INFO:common:created directory at: artifacts]\n",
      "[2024-07-18 18:24:11,367:INFO:common:created directory at: artifacts/data_validation]\n"
     ]
    }
   ],
   "source": [
    "try:\n",
    "    config= ConfigurationManager()\n",
    "    data_validation_config= config.get_data_validation_config()\n",
    "    data_validation= DataValidation(config=data_validation_config)\n",
    "    data_validation.validate_all_columns()\n",
    "except Exception as e:\n",
    "    raise e"
   ]
  }
 ],
 "metadata": {
  "kernelspec": {
   "display_name": "time",
   "language": "python",
   "name": "python3"
  },
  "language_info": {
   "codemirror_mode": {
    "name": "ipython",
    "version": 3
   },
   "file_extension": ".py",
   "mimetype": "text/x-python",
   "name": "python",
   "nbconvert_exporter": "python",
   "pygments_lexer": "ipython3",
   "version": "3.11.4"
  }
 },
 "nbformat": 4,
 "nbformat_minor": 2
}
