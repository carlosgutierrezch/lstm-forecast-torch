{
 "cells": [
  {
   "cell_type": "code",
   "execution_count": 1,
   "metadata": {},
   "outputs": [],
   "source": [
    "import os"
   ]
  },
  {
   "cell_type": "code",
   "execution_count": 2,
   "metadata": {},
   "outputs": [
    {
     "data": {
      "text/plain": [
       "'/Users/main/Desktop/LSTM_Forecast/research'"
      ]
     },
     "execution_count": 2,
     "metadata": {},
     "output_type": "execute_result"
    }
   ],
   "source": [
    "%pwd"
   ]
  },
  {
   "cell_type": "code",
   "execution_count": 3,
   "metadata": {},
   "outputs": [],
   "source": [
    "os.chdir('../')"
   ]
  },
  {
   "cell_type": "code",
   "execution_count": 4,
   "metadata": {},
   "outputs": [
    {
     "data": {
      "text/plain": [
       "'/Users/main/Desktop/LSTM_Forecast'"
      ]
     },
     "execution_count": 4,
     "metadata": {},
     "output_type": "execute_result"
    }
   ],
   "source": [
    "%pwd"
   ]
  },
  {
   "cell_type": "code",
   "execution_count": 5,
   "metadata": {},
   "outputs": [
    {
     "name": "stdout",
     "output_type": "stream",
     "text": [
      "[2024-08-02 22:49:47,201:INFO:common:yaml file: config/config.yaml loaded successfully]\n",
      "[2024-08-02 22:49:47,202:INFO:common:yaml file: params.yaml loaded successfully]\n",
      "[2024-08-02 22:49:47,203:INFO:common:yaml file: schema.yaml loaded successfully]\n",
      "[2024-08-02 22:49:47,203:INFO:common:created directory at: artifacts]\n",
      "[2024-08-02 22:49:47,204:INFO:common:created directory at: artifacts/data_preparation]\n",
      "[2024-08-02 22:49:47,206:INFO:3293646955:Transform and split done!]\n",
      "Tensors have succesfuly saved in: artifacts/data_preparation/tensors.pt\n",
      "[2024-08-02 22:49:47,208:INFO:3293646955:Tensors succesfully saved in: artifacts/data_preparation/tensors.pt]\n"
     ]
    }
   ],
   "source": [
    "from TimeSeriesForecast import logger\n",
    "import pandas as pd\n",
    "import numpy as np\n",
    "from sklearn.preprocessing import MinMaxScaler\n",
    "from copy import deepcopy as dc\n",
    "import torch\n",
    "from TimeSeriesForecast.constants import *\n",
    "from TimeSeriesForecast.utils.common import read_yaml,create_directories\n",
    "from dataclasses import dataclass\n",
    "from pathlib import Path\n",
    "\n",
    "@dataclass(frozen=True)\n",
    "class DataPreparationConfig:\n",
    "    root_dir: Path\n",
    "    data_path: Path\n",
    "    save_path: Path\n",
    "\n",
    "class ConfigurationManager:\n",
    "    def __init__(\n",
    "        self,\n",
    "        config_filepath= CONFIG_FILE_PATH,\n",
    "        params_filepath= PARAMS_FILE_PATH,\n",
    "        schema_filepath= SCHEMA_FILE_PATH):\n",
    "\n",
    "        self.config= read_yaml(config_filepath)\n",
    "        self.params= read_yaml(params_filepath)\n",
    "        self.schema= read_yaml(schema_filepath)\n",
    "\n",
    "        create_directories([self.config.artifacts_root])\n",
    "\n",
    "    def get_data_preparation_config(self)->DataPreparationConfig:\n",
    "        config= self.config.data_preparation\n",
    "\n",
    "        create_directories([config.root_dir])\n",
    "\n",
    "        data_preparation_config= DataPreparationConfig(\n",
    "                                                        root_dir= config.root_dir,\n",
    "                                                        data_path= config.data_path,\n",
    "                                                        save_path= config.save_path\n",
    "                                                        )\n",
    "        return data_preparation_config\n",
    "\n",
    "class DataPreparation:\n",
    "    def __init__(self,config:DataPreparationConfig):\n",
    "        self.config= config\n",
    "        self.df= None\n",
    "        self.X_train= None\n",
    "        self.X_test= None\n",
    "        self.y_test= None\n",
    "        self.y_train= None\n",
    "        self.y_test= None\n",
    "    def extract_data_for_preparation(self):\n",
    "        try:\n",
    "            self.df= pd.read_csv(self.config.data_path)\n",
    "            self.df= self.df.to_numpy()\n",
    "            return self\n",
    "        except Exception as e:\n",
    "            raise Exception(f'Problem loading the data: {e}')\n",
    "    def scaling_data(self):\n",
    "        try:\n",
    "            scaler= MinMaxScaler(feature_range=(-1,1))\n",
    "            transformed= scaler.fit_transform(self.df)\n",
    "            self.transformed= transformed\n",
    "            return self\n",
    "        except Exception as e:\n",
    "            raise Exception(f'Problem Scaling the data: {e}')\n",
    "    def transform_split_data(self):\n",
    "        try:\n",
    "            X=dc(np.flip(X,axis=1))\n",
    "            X= self.transformed[:,1:]\n",
    "            y= self.transformed[:,0]\n",
    "            split_index= int(len(X)*0.80)\n",
    "            self.X_train= X[:split_index]\n",
    "            self.X_test= X[split_index:]\n",
    "            self.y_train= y[:split_index]\n",
    "            self.y_test= y[split_index:]\n",
    "            logger.info('Transform and split done!')\n",
    "            return self\n",
    "        except Exception as e:\n",
    "            raise Exception(f'Problem transforming and splitting the data: {e}')\n",
    "    def reshaping_data(self):\n",
    "        try:\n",
    "            self.X_train= self.X_train.reshape((-1,10,1))\n",
    "            self.X_test= self.X_test.reshape((-1,10,1))\n",
    "            self.y_train= self.y_train.reshape((-1,1))\n",
    "            self.y_test= self.y_test.reshape((-1,1))\n",
    "            self.X_train= torch.tensor(self.X_train).float()\n",
    "            self.X_test= torch.tensor(self.X_test).float()\n",
    "            self.y_train= torch.tensor(self.y_train).float()\n",
    "            self.y_test= torch.tensor(self.y_test).float()\n",
    "            return self\n",
    "        except Exception as e:\n",
    "            raise Exception(f'Problem reshaping and creating tensors {e}')\n",
    "    def saving_tensors(self):\n",
    "        try:\n",
    "            torch.save({'X_train':self.X_train,'X_test':self.X_test,\n",
    "                        'y_train':self.y_train,'y_test':self.y_test},self.config.save_path)\n",
    "            print(f'Tensors have succesfuly saved in: {self.config.save_path}')\n",
    "            logger.info(f'Tensors succesfully saved in: {self.config.save_path}')\n",
    "        except Exception as e:\n",
    "            raise Exception(f'Problem saving the tensors: {e}')\n",
    "        \n",
    "try:\n",
    "        config= ConfigurationManager()\n",
    "        data_preparation_config= config.get_data_preparation_config()\n",
    "        data_preparation= DataPreparation(config=data_preparation_config)\n",
    "        data_preparation.extract_data_for_preparation()\n",
    "        data_preparation.scaling_data()\n",
    "        data_preparation.transform_split_data()\n",
    "        data_preparation.reshaping_data()\n",
    "        data_preparation.saving_tensors()\n",
    "except Exception as e:\n",
    "    raise e    \n",
    "        "
   ]
  }
 ],
 "metadata": {
  "kernelspec": {
   "display_name": "time",
   "language": "python",
   "name": "python3"
  },
  "language_info": {
   "codemirror_mode": {
    "name": "ipython",
    "version": 3
   },
   "file_extension": ".py",
   "mimetype": "text/x-python",
   "name": "python",
   "nbconvert_exporter": "python",
   "pygments_lexer": "ipython3",
   "version": "3.11.4"
  }
 },
 "nbformat": 4,
 "nbformat_minor": 2
}
